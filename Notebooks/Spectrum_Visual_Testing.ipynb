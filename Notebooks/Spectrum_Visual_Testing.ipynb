{
 "cells": [
  {
   "cell_type": "markdown",
   "metadata": {},
   "source": [
    "# Visual Test of Specturm Class\n",
    "Jason Neal, \n",
    "September 2016"
   ]
  },
  {
   "cell_type": "code",
   "execution_count": null,
   "metadata": {
    "collapsed": false
   },
   "outputs": [],
   "source": [
    "from __future__ import division, print_function\n",
    "import numpy as np\n",
    "import PyAstronomy as pyasl\n",
    "from astropy.io import fits\n",
    "import matplotlib.pyplot as plt\n",
    "\n",
    "import copy\n",
    "import Spectrum \n",
    "\n",
    "%matplotlib inline"
   ]
  },
  {
   "cell_type": "code",
   "execution_count": null,
   "metadata": {
    "collapsed": false
   },
   "outputs": [],
   "source": [
    "# Load some data and put in the spectrum class\n",
    "\n",
    "filename = \"../../../Codes/Phd-codes/Notebooks/HD30501_data/1/CRIRE.2012-04-07T00-08-29.976_1.nod.ms.norm.sum.wavecal.fits\"\n",
    "data = fits.getdata(filename)\n",
    "print(data)\n",
    "data.columns\n",
    "data[\"Extracted_DRACS\"]\n",
    "HD30501_1 = Spectrum.Spectrum(flux=data[\"Extracted_DRACS\"], xaxis=data[\"Wavelength\"], calibrated=True)\n",
    "#HD30501_1_org = Spectrum.Spectrum(flux=data[\"Extracted_DRACS\"], xaxis=data[\"Wavelength\"], calibrated=True)"
   ]
  },
  {
   "cell_type": "code",
   "execution_count": null,
   "metadata": {
    "collapsed": false
   },
   "outputs": [],
   "source": [
    "# Try to make a copy of a spectrum\n",
    "HD30501_1_copy = copy.copy(HD30501_1)\n",
    "\n",
    "# Test slice and doppler shift\n",
    "plt.figure()\n",
    "plt.plot(HD30501_1.xaxis, HD30501_1.flux, label=\"Orginal\")\n",
    "HD30501_1.wav_select(2113,2120)\n",
    "plt.plot(HD30501_1.xaxis, HD30501_1.flux, \"+-\",label=\"wave_select\")\n",
    "RV = 10  # km/s\n",
    "#nflux, wlprime = pyasl.dopplerShift(HD30501_1.xaxis, HD30501_1.flux, RV)\n",
    "HD30501_1.doppler_shift(RV)    \n",
    "plt.plot(HD30501_1.xaxis, HD30501_1.flux, \"--\", label=\"Doppler shift Pos\")\n",
    "HD30501_1_copy.doppler_shift(-RV)    \n",
    "plt.plot(HD30501_1_copy.xaxis, HD30501_1_copy.flux, \"--\", label=\"Doppler shift Neg\")\n",
    "#plt.plt(wlprime, HD30501_1.flux, \"PyAstronomy Doopler\")\n",
    "#plt.axis.xaxis.\n",
    "plt.xlim([2112,2118])\n",
    "plt.legend()\n",
    "plt.show()\n"
   ]
  },
  {
   "cell_type": "code",
   "execution_count": null,
   "metadata": {
    "collapsed": false
   },
   "outputs": [],
   "source": [
    "# Test Calibration polynomial\n",
    "\n",
    "spec = Spectrum.Spectrum(xaxis=[1,2,3,4,5,6], calibrated=False)\n",
    "spec.calibrate_with([10, 1.5, 0.1])\n",
    "\n",
    "plt.plot([1,2,3,4,5,6], spec.xaxis)\n",
    "plt.title(\"Test Wavelenght mapping\")\n",
    "plt.xlabel(\"Old xaxis\")\n",
    "plt.ylabel(\"New xaxis\")\n",
    "plt.show()\n"
   ]
  },
  {
   "cell_type": "code",
   "execution_count": null,
   "metadata": {
    "collapsed": false
   },
   "outputs": [],
   "source": []
  },
  {
   "cell_type": "code",
   "execution_count": null,
   "metadata": {
    "collapsed": true
   },
   "outputs": [],
   "source": []
  }
 ],
 "metadata": {
  "kernelspec": {
   "display_name": "Python 3",
   "language": "python",
   "name": "python3"
  },
  "language_info": {
   "codemirror_mode": {
    "name": "ipython",
    "version": 3
   },
   "file_extension": ".py",
   "mimetype": "text/x-python",
   "name": "python",
   "nbconvert_exporter": "python",
   "pygments_lexer": "ipython3",
   "version": "3.4.5"
  }
 },
 "nbformat": 4,
 "nbformat_minor": 0
}
